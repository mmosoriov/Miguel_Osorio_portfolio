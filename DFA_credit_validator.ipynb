{
 "cells": [
  {
   "cell_type": "markdown",
   "metadata": {},
   "source": [
    "# Credit card validation using DFAS"
   ]
  },
  {
   "cell_type": "markdown",
   "metadata": {},
   "source": [
    "Conditions:\n",
    "1. All American Express numbers start with 34 or 37, 15-digit numbers\n",
    "2. Most MasterCard numbers start with 51, 52, 53, 54, or 55 (they also have some other potential starting numbers which we won’t concern ourselves with for this problem)- 16 digit numbers\n",
    "3. Visa numbers start with 4. 13- and 16-digit numbers. \n",
    "4. Fulfill Luhn’s Algorithm\n",
    "\n",
    "- Multiply every other digit by 2, starting with the number’s second-to-last digit, and then add those products’ digits together.\n",
    "- Add the sum to the sum of the digits that weren’t multiplied by 2.\n",
    "- If the total’s last digit is 0 (or, put more formally, if the total modulo 10 is congruent to 0), the number is valid!\n"
   ]
  },
  {
   "cell_type": "code",
   "execution_count": 1,
   "metadata": {},
   "outputs": [],
   "source": [
    "CREDIT_CARD_NUMBER = 4111111111111111"
   ]
  },
  {
   "cell_type": "markdown",
   "metadata": {},
   "source": [
    "# Standard algorithm \n"
   ]
  },
  {
   "cell_type": "code",
   "execution_count": 2,
   "metadata": {},
   "outputs": [
    {
     "name": "stdout",
     "output_type": "stream",
     "text": [
      "Standard Validation Result: VISA\n"
     ]
    }
   ],
   "source": [
    "def validate_credit_card(number):\n",
    "    # Cast to string, dealing with digits only\n",
    "    number = str(number)\n",
    "    # count digits\n",
    "    n = len(number)\n",
    "    \n",
    "    # Check valid lengths\n",
    "    if n not in [13, 15, 16]:\n",
    "        return \"INVALID\"\n",
    "    \n",
    "    # Luhn's algorithm: Process from right to left\n",
    "    total_sum = 0\n",
    "    for i in range(n):\n",
    "        digit = int(number[n - 1 - i])\n",
    "        if i % 2 == 1:  # Starting from Second-to-last digit and every other digit\n",
    "            doubled = digit * 2\n",
    "            # If doubled value is greater than 9(two digit number), sum the digits, not the number\n",
    "            total_sum += (doubled // 10) + (doubled % 10) if doubled >= 10 else doubled\n",
    "        else:\n",
    "            # Add the digits that are not doubled\n",
    "            total_sum += digit\n",
    "\n",
    "    #check for Lunh's algorithm validity\n",
    "    if total_sum % 10 != 0:\n",
    "        return \"INVALID\"\n",
    "    \n",
    "    # If we havent returned invalid, means it passed Lunhs algorithm, so Determine card type\n",
    "    first_digit = number[0]\n",
    "    first_two = number[:2]\n",
    "    \n",
    "    if first_two in [\"34\", \"37\"] and n == 15:\n",
    "        return \"AMEX\"\n",
    "    elif first_two in [\"51\", \"52\", \"53\", \"54\", \"55\"] and n == 16:\n",
    "        return \"MASTERCARD\"\n",
    "    elif first_digit == \"4\" and n in [13, 16]:\n",
    "        return \"VISA\"\n",
    "    else:\n",
    "        return \"INVALID\"\n",
    "\n",
    "# Test the standard validator\n",
    "result = validate_credit_card(CREDIT_CARD_NUMBER)\n",
    "print(f\"Standard Validation Result: {result}\")"
   ]
  },
  {
   "cell_type": "markdown",
   "metadata": {},
   "source": [
    "# DFA algorithm\n",
    "(A python implementation of a DFA)"
   ]
  },
  {
   "cell_type": "code",
   "execution_count": 3,
   "metadata": {},
   "outputs": [
    {
     "name": "stdout",
     "output_type": "stream",
     "text": [
      "DFA Validation Result: VISA\n"
     ]
    }
   ],
   "source": [
    "#DFA implementation of the credit card validation algorithm\n",
    "# Three helper functions: 1.update the Luhn sum(as we read digits), 2.state transitions, and determine final card type.\n",
    "def update_sum(current_sum, digit, k, n):\n",
    "    \"\"\"\n",
    "    When called, Updates the Luhn sum for the DIGIT at position k (from left) for a total length n.\n",
    "    Doubles the digit if its position from the right (n - k + 1) is even.\n",
    "    \"\"\"\n",
    "    #cast to int\n",
    "    digit = int(digit)\n",
    "    # Multiply every other digit by 2, starting with the number’s second-to-last digit\n",
    "    # Double if (n - k + 1) is even: for odd n, k even; for even n, k odd\n",
    "    if (n % 2 == 0 and k % 2 == 1) or (n % 2 == 1 and k % 2 == 0):\n",
    "        doubled = digit * 2\n",
    "        add = (doubled // 10) + (doubled % 10)\n",
    "    else:\n",
    "        add = digit\n",
    "    return (current_sum + add) % 10\n",
    "\n",
    "def next_state(state, digit):\n",
    "    \"\"\"\n",
    "    Computes the next DFA state based on the current state and input digit.\n",
    "    \"\"\"\n",
    "    # Handle invalid state\n",
    "    if state == \"invalid\":\n",
    "        return \"invalid\"\n",
    "    \n",
    "    # unpack the current state(type of current state, digit position in original number, and Luhn sum)\n",
    "    # a pointer keeps the rest of the information\n",
    "    type_, *rest = state\n",
    "    # Based on the first digit, the DFA transitions to a \"potential\" state \n",
    "    if type_ == \"start\":\n",
    "        if digit == \"3\":\n",
    "            return (\"potential_Amex\", 1, update_sum(0, digit, 1, 15))\n",
    "        elif digit == \"4\":\n",
    "            sum13 = update_sum(0, digit, 1, 13)\n",
    "            sum16 = update_sum(0, digit, 1, 16)\n",
    "            return (\"Visa\", 1, sum13, sum16)\n",
    "        elif digit == \"5\":\n",
    "            return (\"potential_MasterCard\", 1, update_sum(0, digit, 1, 16))\n",
    "        else:\n",
    "            return \"invalid\"\n",
    "    \n",
    "    # Transitions for potential states\n",
    "    # if the second digit is 4 or 7 for potential Amex go to \"Amex\" state\n",
    "    elif type_ == \"potential_Amex\":\n",
    "        pos, sum_mod10 = rest\n",
    "        if pos == 1 and digit in [\"4\", \"7\"]:\n",
    "            return (\"Amex\", 2, update_sum(sum_mod10, digit, 2, 15))\n",
    "        return \"invalid\"\n",
    "    # if the second digit is 1, 2, 3, 4, or 5 for potential MasterCard go to \"MasterCard\" state\n",
    "    elif type_ == \"potential_MasterCard\":\n",
    "        pos, sum_mod10 = rest\n",
    "        if pos == 1 and digit in [\"1\", \"2\", \"3\", \"4\", \"5\"]:\n",
    "            return (\"MasterCard\", 2, update_sum(sum_mod10, digit, 2, 16))\n",
    "        return \"invalid\"\n",
    "    \n",
    "    # Transitions for valid states\n",
    "    # if the type is Amex, MasterCard, or Visa, we continue processing digits\n",
    "    elif type_ == \"Amex\":\n",
    "        pos, sum_mod10 = rest\n",
    "        if pos < 15:\n",
    "            return (\"Amex\", pos + 1, update_sum(sum_mod10, digit, pos + 1, 15))\n",
    "        return \"invalid\"\n",
    "    \n",
    "    elif type_ == \"MasterCard\":\n",
    "        pos, sum_mod10 = rest\n",
    "        if pos < 16:\n",
    "            return (\"MasterCard\", pos + 1, update_sum(sum_mod10, digit, pos + 1, 16))\n",
    "        return \"invalid\"\n",
    "    \n",
    "    elif type_ == \"Visa\":\n",
    "        pos, sum13, sum16 = rest\n",
    "        if pos < 16:\n",
    "            new_sum13 = update_sum(sum13, digit, pos + 1, 13)\n",
    "            new_sum16 = update_sum(sum16, digit, pos + 1, 16)\n",
    "            return (\"Visa\", pos + 1, new_sum13, new_sum16)\n",
    "        return \"invalid\"\n",
    "    \n",
    "    return \"invalid\"\n",
    "\n",
    "def get_card_type(state):\n",
    "    \"\"\"\n",
    "    Determines the card type based on the final DFA state.\n",
    "    \"\"\"\n",
    "    if state == \"invalid\":\n",
    "        return \"INVALID\"\n",
    "    # unpack the final state(type of current state, digit position in original number, and Luhn sum)\n",
    "    type_, *rest = state\n",
    "    # check the type, final digitp postion(length), and Luhn sum %10 =0\n",
    "    if type_ == \"Amex\" and rest[0] == 15 and rest[1] == 0:\n",
    "        return \"AMEX\"\n",
    "    elif type_ == \"MasterCard\" and rest[0] == 16 and rest[1] == 0:\n",
    "        return \"MASTERCARD\"\n",
    "    elif type_ == \"Visa\":\n",
    "        pos, sum13, sum16 = rest\n",
    "        if pos == 13 and sum13 == 0:\n",
    "            return \"VISA\"\n",
    "        elif pos == 16 and sum16 == 0:\n",
    "            return \"VISA\"\n",
    "    return \"INVALID\"\n",
    "\n",
    "def dfa_validate(number):\n",
    "    \"\"\"\n",
    "    Validates a credit card number using a DFA.\n",
    "    \"\"\"\n",
    "    # initialize the DFA state\n",
    "    state = (\"start\",)\n",
    "    for digit in str(number):\n",
    "        state = next_state(state, digit)\n",
    "    return get_card_type(state)\n",
    "\n",
    "# Test the DFA validator\n",
    "result = dfa_validate(CREDIT_CARD_NUMBER)\n",
    "print(f\"DFA Validation Result: {result}\")"
   ]
  },
  {
   "cell_type": "markdown",
   "metadata": {},
   "source": [
    "# Standard Test Cards\n",
    "\n",
    "Taken from Pay Pal\n",
    "https://developer.paypal.com/api/nvp-soap/payflow/integration-guide/test-transactions/#standard-test-cards"
   ]
  },
  {
   "cell_type": "code",
   "execution_count": 4,
   "metadata": {},
   "outputs": [
    {
     "name": "stdout",
     "output_type": "stream",
     "text": [
      "                     Card_Type       Card_Number\n",
      "0             American Express   378282246310005\n",
      "1             American Express   371449635398431\n",
      "2   American Express Corporate   378734493671000\n",
      "3                  Diners Club    30569309025904\n",
      "4                     Discover  6011111111111110\n",
      "5                     Discover  6011000990139420\n",
      "6                          JCB  3530111333300000\n",
      "7                          JCB  3566002020360500\n",
      "8                   Mastercard  5555555555554444\n",
      "9                   Mastercard  5105105105105100\n",
      "10                        Visa  4111111111111111\n",
      "11                        Visa  4012888888881881\n",
      "12                        Visa  4999991111111113\n",
      "13                  Mastercard  5199999999999991\n",
      "14                        Visa  4999992222222229\n",
      "15                  Mastercard  5299999999999990\n",
      "16                        Fake   123456789101112\n"
     ]
    }
   ],
   "source": [
    "# Upload csv file with test cases\n",
    "import pandas as pd\n",
    "df_test_cases = pd.read_csv(\"Pay_pal_tests.csv\")\n",
    "# Display the dataframe\n",
    "print(df_test_cases)\n"
   ]
  },
  {
   "cell_type": "code",
   "execution_count": 5,
   "metadata": {},
   "outputs": [
    {
     "name": "stdout",
     "output_type": "stream",
     "text": [
      "Testing 378282246310005: Expected American Express, Got AMEX\n",
      "Testing 371449635398431: Expected American Express, Got AMEX\n",
      "Testing 378734493671000: Expected American Express Corporate, Got AMEX\n",
      "Testing 30569309025904: Expected Diners Club, Got INVALID\n",
      "Testing 6011111111111110: Expected Discover, Got INVALID\n",
      "Testing 6011000990139420: Expected Discover, Got INVALID\n",
      "Testing 3530111333300000: Expected JCB, Got INVALID\n",
      "Testing 3566002020360500: Expected JCB, Got INVALID\n",
      "Testing 5555555555554444: Expected Mastercard, Got MASTERCARD\n",
      "Testing 5105105105105100: Expected Mastercard, Got MASTERCARD\n",
      "Testing 4111111111111111: Expected Visa, Got VISA\n",
      "Testing 4012888888881881: Expected Visa, Got VISA\n",
      "Testing 4999991111111113: Expected Visa, Got VISA\n",
      "Testing 5199999999999991: Expected Mastercard, Got MASTERCARD\n",
      "Testing 4999992222222229: Expected Visa, Got VISA\n",
      "Testing 5299999999999990: Expected Mastercard, Got MASTERCARD\n",
      "Testing 123456789101112: Expected Fake, Got INVALID\n"
     ]
    }
   ],
   "source": [
    "# test the dfa algorithm with the test cases\n",
    "for index, row in df_test_cases.iterrows():\n",
    "    card_number = row['Card_Number']\n",
    "    expected_result = row['Card_Type']\n",
    "    result = dfa_validate(card_number)\n",
    "    print(f\"Testing {card_number}: Expected {expected_result}, Got {result}\")"
   ]
  },
  {
   "cell_type": "code",
   "execution_count": 6,
   "metadata": {},
   "outputs": [
    {
     "name": "stdout",
     "output_type": "stream",
     "text": [
      "Testing 378282246310005: Expected American Express, Got AMEX\n",
      "Testing 371449635398431: Expected American Express, Got AMEX\n",
      "Testing 378734493671000: Expected American Express Corporate, Got AMEX\n",
      "Testing 30569309025904: Expected Diners Club, Got INVALID\n",
      "Testing 6011111111111110: Expected Discover, Got INVALID\n",
      "Testing 6011000990139420: Expected Discover, Got INVALID\n",
      "Testing 3530111333300000: Expected JCB, Got INVALID\n",
      "Testing 3566002020360500: Expected JCB, Got INVALID\n",
      "Testing 5555555555554444: Expected Mastercard, Got MASTERCARD\n",
      "Testing 5105105105105100: Expected Mastercard, Got MASTERCARD\n",
      "Testing 4111111111111111: Expected Visa, Got VISA\n",
      "Testing 4012888888881881: Expected Visa, Got VISA\n",
      "Testing 4999991111111113: Expected Visa, Got VISA\n",
      "Testing 5199999999999991: Expected Mastercard, Got MASTERCARD\n",
      "Testing 4999992222222229: Expected Visa, Got VISA\n",
      "Testing 5299999999999990: Expected Mastercard, Got MASTERCARD\n",
      "Testing 123456789101112: Expected Fake, Got INVALID\n"
     ]
    }
   ],
   "source": [
    "# test the standard algorithm with the test cases\n",
    "for index, row in df_test_cases.iterrows():\n",
    "    card_number = row['Card_Number']\n",
    "    expected_result = row['Card_Type']\n",
    "    result = validate_credit_card(card_number)\n",
    "    print(f\"Testing {card_number}: Expected {expected_result}, Got {result}\")"
   ]
  }
 ],
 "metadata": {
  "kernelspec": {
   "display_name": "base",
   "language": "python",
   "name": "python3"
  },
  "language_info": {
   "codemirror_mode": {
    "name": "ipython",
    "version": 3
   },
   "file_extension": ".py",
   "mimetype": "text/x-python",
   "name": "python",
   "nbconvert_exporter": "python",
   "pygments_lexer": "ipython3",
   "version": "3.9.12"
  }
 },
 "nbformat": 4,
 "nbformat_minor": 2
}
